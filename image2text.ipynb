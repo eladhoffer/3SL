{
 "cells": [
  {
   "cell_type": "code",
   "execution_count": 6,
   "metadata": {},
   "outputs": [],
   "source": [
    "import torch\n",
    "import PIL.Image as Image\n",
    "import torchvision.transforms as T\n",
    "from src.tasks.text import ImageToTextTask\n",
    "from transformers import T5Tokenizer, T5ForConditionalGeneration\n",
    "from transformers.modeling_outputs import BaseModelOutputWithPastAndCrossAttentions\n",
    "from src.data.datasets.cc12m import CC12M\n",
    "tokenizer = T5Tokenizer.from_pretrained(\"t5-small\")\n",
    "\n",
    "transform = T.Compose([\n",
    "    T.Resize(256),\n",
    "    T.CenterCrop(224),\n",
    "    T.ToTensor(),\n",
    "    T.Normalize(mean=[0.485, 0.456, 0.406],\n",
    "                std=[0.229, 0.224, 0.225])\n",
    "])"
   ]
  },
  {
   "cell_type": "code",
   "execution_count": 7,
   "metadata": {},
   "outputs": [
    {
     "name": "stdout",
     "output_type": "stream",
     "text": [
      "--2022-01-19 15:17:30--  https://pixabay.com/get/gc9fa90a1f35bea94dededfe2e648de92e65fc4b476fb2e49040944c7ccade730a0e782a7ca0cff72041ef17114afcd93a39ba8a47960128487192e4ef24011bf7d3b185807ca58920dd70ebcf116d21e_1920.jpg\n",
      "Resolving pixabay.com (pixabay.com)... 104.18.20.183, 104.18.21.183, 2606:4700::6812:15b7, ...\n",
      "Connecting to pixabay.com (pixabay.com)|104.18.20.183|:443... connected.\n",
      "HTTP request sent, awaiting response... 200 OK\n",
      "Length: 513062 (501K) [image/jpeg]\n",
      "Saving to: ‘./test_image.jpg’\n",
      "\n",
      "./test_image.jpg    100%[===================>] 501.04K  1.27MB/s    in 0.4s    \n",
      "\n",
      "2022-01-19 15:17:31 (1.27 MB/s) - ‘./test_image.jpg’ saved [513062/513062]\n",
      "\n"
     ]
    }
   ],
   "source": [
    "!wget https://pixabay.com/get/gc9fa90a1f35bea94dededfe2e648de92e65fc4b476fb2e49040944c7ccade730a0e782a7ca0cff72041ef17114afcd93a39ba8a47960128487192e4ef24011bf7d3b185807ca58920dd70ebcf116d21e_1920.jpg -O ./test_image.jpg"
   ]
  },
  {
   "cell_type": "code",
   "execution_count": 35,
   "metadata": {},
   "outputs": [],
   "source": [
    "task = ImageToTextTask.load_from_checkpoint('./results/resnet50_t5_img2txt_no_pool/checkpoints/last.ckpt',\\\n",
    "     map_location='cpu')"
   ]
  },
  {
   "cell_type": "code",
   "execution_count": 36,
   "metadata": {},
   "outputs": [
    {
     "name": "stdout",
     "output_type": "stream",
     "text": [
      "The PERSON> - PERSON> - PERSON\n"
     ]
    }
   ],
   "source": [
    "\n",
    "image = transform(Image.open('./test_image.jpg'))\n",
    "tokens = task.model.generate(image.unsqueeze(0))#, do_sample=True, top_k=0)\n",
    "print(tokenizer.decode(tokens[0], skip_special_tokens=True))"
   ]
  },
  {
   "cell_type": "code",
   "execution_count": null,
   "metadata": {},
   "outputs": [],
   "source": []
  }
 ],
 "metadata": {
  "interpreter": {
   "hash": "a89d6a6c864bcdce534354bb2f113174f9edd5800a0d2d12bc74734426fef360"
  },
  "kernelspec": {
   "display_name": "Python 3.8.5 64-bit ('base': conda)",
   "language": "python",
   "name": "python3"
  },
  "language_info": {
   "codemirror_mode": {
    "name": "ipython",
    "version": 3
   },
   "file_extension": ".py",
   "mimetype": "text/x-python",
   "name": "python",
   "nbconvert_exporter": "python",
   "pygments_lexer": "ipython3",
   "version": "3.8.5"
  },
  "orig_nbformat": 4
 },
 "nbformat": 4,
 "nbformat_minor": 2
}
